{
  "nbformat": 4,
  "nbformat_minor": 0,
  "metadata": {
    "colab": {
      "provenance": [],
      "authorship_tag": "ABX9TyODIlA51hNAHi5gKQ2QuRg2",
      "include_colab_link": true
    },
    "kernelspec": {
      "name": "python3",
      "display_name": "Python 3"
    },
    "language_info": {
      "name": "python"
    }
  },
  "cells": [
    {
      "cell_type": "markdown",
      "metadata": {
        "id": "view-in-github",
        "colab_type": "text"
      },
      "source": [
        "<a href=\"https://colab.research.google.com/github/HazemHassine/Machine-Learning-Components/blob/master/KNN_Algorithm.ipynb\" target=\"_parent\"><img src=\"https://colab.research.google.com/assets/colab-badge.svg\" alt=\"Open In Colab\"/></a>"
      ]
    },
    {
      "cell_type": "code",
      "execution_count": 29,
      "metadata": {
        "id": "gTHbNHU5tuu_"
      },
      "outputs": [],
      "source": [
        "import numpy as np\n",
        "import pandas as pd"
      ]
    },
    {
      "cell_type": "code",
      "source": [
        "def euclidean_distance(x1: np.ndarray, x2: np.ndarray)-> np.float64:\n",
        "  if not type(x1) == \"np.ndarray\" and type(x2) == \"np.ndarray\":\n",
        "    print(\"type error at euclidean distance\")\n",
        "    print(f\"euclidean_distance takes two arguments of type np.ndarray, instead found x1 of type {type(x1)} and x2 of type {type(x2)}\")\n",
        "    return None\n",
        "  if x1.shape != x2.shape:\n",
        "    print(\"shape error at euclidean distance\")\n",
        "    print(f\"x1 and x2 must be of the same shape, instead found x1 of shape {x1.shape} and x2 of shape {x2.shape}\")\n",
        "    return None\n",
        "  return np.sqrt(np.sum((x1 - x2)**2))"
      ],
      "metadata": {
        "id": "a_ui6PwAt1JF"
      },
      "execution_count": 30,
      "outputs": []
    },
    {
      "cell_type": "code",
      "source": [
        "distance = euclidean_distance(np.array([2,3,5,1]), np.array([3,4,6,2]))"
      ],
      "metadata": {
        "id": "XfTH5uz8vVik"
      },
      "execution_count": 31,
      "outputs": []
    },
    {
      "cell_type": "code",
      "source": [
        "# load iris dataset\n",
        "from sklearn.model_selection import train_test_split\n",
        "!curl https://gist.githubusercontent.com/netj/8836201/raw/6f9306ad21398ea43cba4f7d537619d0e07d5ae3/iris.csv --output iris.csv\n",
        "iris = pd.read_csv(\"iris.csv\")\n",
        "train_x, test_x, train_y, test_y = train_test_split(iris.iloc[:,:-1], iris.iloc[:, -1], test_size=0.3)"
      ],
      "metadata": {
        "colab": {
          "base_uri": "https://localhost:8080/"
        },
        "id": "QRkWwEeO2GJ8",
        "outputId": "0daa6b5a-60e0-40d4-8fa2-ce6c5a9713d0"
      },
      "execution_count": 32,
      "outputs": [
        {
          "output_type": "stream",
          "name": "stdout",
          "text": [
            "  % Total    % Received % Xferd  Average Speed   Time    Time     Time  Current\n",
            "                                 Dload  Upload   Total   Spent    Left  Speed\n",
            "\r  0     0    0     0    0     0      0      0 --:--:-- --:--:-- --:--:--     0\r100  3975  100  3975    0     0  20177      0 --:--:-- --:--:-- --:--:-- 20075\r100  3975  100  3975    0     0  20177      0 --:--:-- --:--:-- --:--:-- 20075\n"
          ]
        }
      ]
    },
    {
      "cell_type": "code",
      "source": [
        "train_x = np.array(train_x)\n",
        "test_x = np.array(test_x)\n",
        "train_y = np.array(train_y)\n",
        "test_y = np.array(test_y)"
      ],
      "metadata": {
        "id": "alqkGOs03R2r"
      },
      "execution_count": 33,
      "outputs": []
    },
    {
      "cell_type": "code",
      "source": [
        "print(train_x.shape,test_x.shape, train_y.shape, test_y.shape)\n",
        "test_y.shape"
      ],
      "metadata": {
        "colab": {
          "base_uri": "https://localhost:8080/"
        },
        "id": "ltoaByeiD9r9",
        "outputId": "c19ad6bc-e5c4-4f86-e1fa-5b95d54d97f8"
      },
      "execution_count": 34,
      "outputs": [
        {
          "output_type": "stream",
          "name": "stdout",
          "text": [
            "(105, 4) (45, 4) (105,) (45,)\n"
          ]
        },
        {
          "output_type": "execute_result",
          "data": {
            "text/plain": [
              "(45,)"
            ]
          },
          "metadata": {},
          "execution_count": 34
        }
      ]
    },
    {
      "cell_type": "code",
      "source": [
        "sample = test_y[0]"
      ],
      "metadata": {
        "id": "47GXMROi4GeU"
      },
      "execution_count": 35,
      "outputs": []
    },
    {
      "cell_type": "code",
      "source": [
        "class K_nearest_neighbor:\n",
        "  def __init__(self, train_x, train_y, k=5):\n",
        "    self.points = train_x\n",
        "    self.labels = train_y\n",
        "    self.k = k\n",
        "  def predict(self, to_predict):\n",
        "    distances = 0\n",
        "    votes = dict()\n",
        "    distances = np.array([euclidean_distance(to_predict, point) for point in self.points], dtype= np.float64)\n",
        "    distances = pd.DataFrame({\"distance\": distances,\"label\": self.labels})\n",
        "    distances.sort_values(by=\"distance\",inplace=True)\n",
        "    votes = {k: 0 for k in self.labels}\n",
        "    k_labels = distances.label[:self.k]\n",
        "    for i in k_labels:\n",
        "      votes[i] += 1\n",
        "    t = max(votes.items(), key=lambda x: x[1])[0]\n",
        "    return t"
      ],
      "metadata": {
        "id": "SgSvh6qC1OfT"
      },
      "execution_count": 83,
      "outputs": []
    },
    {
      "cell_type": "code",
      "source": [
        "clf = K_nearest_neighbor(train_x, train_y, k=3)\n",
        "t = clf.predict(test_x[5])\n",
        "predictions = np.array([clf.predict(x) for x in test_x])\n",
        "print(predictions)\n",
        "print(test_y)"
      ],
      "metadata": {
        "colab": {
          "base_uri": "https://localhost:8080/"
        },
        "id": "URQti50pCkt_",
        "outputId": "50d88651-7846-47b4-ef96-bf7d5ac37b1f"
      },
      "execution_count": 93,
      "outputs": [
        {
          "output_type": "stream",
          "name": "stdout",
          "text": [
            "['Setosa' 'Versicolor' 'Versicolor' 'Setosa' 'Versicolor' 'Setosa'\n",
            " 'Setosa' 'Versicolor' 'Versicolor' 'Virginica' 'Virginica' 'Setosa'\n",
            " 'Versicolor' 'Setosa' 'Versicolor' 'Virginica' 'Setosa' 'Versicolor'\n",
            " 'Versicolor' 'Setosa' 'Setosa' 'Versicolor' 'Setosa' 'Setosa' 'Virginica'\n",
            " 'Versicolor' 'Virginica' 'Versicolor' 'Versicolor' 'Virginica'\n",
            " 'Virginica' 'Virginica' 'Versicolor' 'Virginica' 'Versicolor' 'Virginica'\n",
            " 'Versicolor' 'Virginica' 'Versicolor' 'Versicolor' 'Setosa' 'Versicolor'\n",
            " 'Virginica' 'Versicolor' 'Setosa']\n",
            "['Setosa' 'Versicolor' 'Versicolor' 'Setosa' 'Versicolor' 'Setosa'\n",
            " 'Setosa' 'Versicolor' 'Versicolor' 'Virginica' 'Virginica' 'Setosa'\n",
            " 'Virginica' 'Setosa' 'Versicolor' 'Virginica' 'Setosa' 'Versicolor'\n",
            " 'Versicolor' 'Setosa' 'Setosa' 'Versicolor' 'Setosa' 'Setosa' 'Virginica'\n",
            " 'Versicolor' 'Virginica' 'Versicolor' 'Virginica' 'Virginica' 'Virginica'\n",
            " 'Virginica' 'Versicolor' 'Virginica' 'Versicolor' 'Virginica'\n",
            " 'Versicolor' 'Virginica' 'Versicolor' 'Versicolor' 'Setosa' 'Versicolor'\n",
            " 'Virginica' 'Versicolor' 'Setosa']\n"
          ]
        }
      ]
    },
    {
      "cell_type": "code",
      "source": [
        "from sklearn.metrics import classification_report\n",
        "\n",
        "print(classification_report(test_y, predictions))"
      ],
      "metadata": {
        "colab": {
          "base_uri": "https://localhost:8080/"
        },
        "id": "10IJ8lOiMgX1",
        "outputId": "95ece4a8-0916-44ad-e534-dc1338ebf8c2"
      },
      "execution_count": 94,
      "outputs": [
        {
          "output_type": "stream",
          "name": "stdout",
          "text": [
            "              precision    recall  f1-score   support\n",
            "\n",
            "      Setosa       1.00      1.00      1.00        13\n",
            "  Versicolor       0.90      1.00      0.95        18\n",
            "   Virginica       1.00      0.86      0.92        14\n",
            "\n",
            "    accuracy                           0.96        45\n",
            "   macro avg       0.97      0.95      0.96        45\n",
            "weighted avg       0.96      0.96      0.96        45\n",
            "\n"
          ]
        }
      ]
    }
  ]
}