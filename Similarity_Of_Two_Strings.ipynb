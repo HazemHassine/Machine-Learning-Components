{
  "nbformat": 4,
  "nbformat_minor": 0,
  "metadata": {
    "colab": {
      "provenance": [],
      "authorship_tag": "ABX9TyPrtwrm2YtBg8haBamWew1Y",
      "include_colab_link": true
    },
    "kernelspec": {
      "name": "python3",
      "display_name": "Python 3"
    },
    "language_info": {
      "name": "python"
    }
  },
  "cells": [
    {
      "cell_type": "markdown",
      "metadata": {
        "id": "view-in-github",
        "colab_type": "text"
      },
      "source": [
        "<a href=\"https://colab.research.google.com/github/HazemHassine/Machine-Learning-Components/blob/master/Similarity_Of_Two_Strings.ipynb\" target=\"_parent\"><img src=\"https://colab.research.google.com/assets/colab-badge.svg\" alt=\"Open In Colab\"/></a>"
      ]
    },
    {
      "cell_type": "code",
      "source": [
        "import numpy as np\n",
        "import pandas as pd\n",
        "import warnings\n",
        "warnings.filterwarnings(\"ignore\")\n",
        "\n",
        "def similarity(A1,B1):\n",
        "  A1 = A1.lower()\n",
        "  B1 = B1.lower()\n",
        "  A = {k: 0 for k in A1.split()}\n",
        "  B = {k: 0 for k in B1.split()}\n",
        "  words = {k: 0 for k in {**A,**B}.keys()}\n",
        "  sim_df = pd.DataFrame(words,index=[\"A\",\"B\"])\n",
        "  del(A)\n",
        "  del(B)\n",
        "  for a in A1.split():\n",
        "    sim_df.loc[\"A\", [a]] += 1\n",
        "  for b in B1.split():\n",
        "    sim_df.loc[\"B\", [b]] += 1\n",
        "  A = np.array(sim_df.loc[\"A\",:], dtype=np.integer)\n",
        "  B = np.array(sim_df.loc[\"B\",:], dtype=np.integer)\n",
        "  similarity = np.sum(A*B)/ (np.sqrt(np.sum(A)) * np.sqrt(np.sum(B)))\n",
        "  print(similarity)\n",
        "\n",
        "similarity(\"Hello Hazem test\", \"test Hello azerty\")"
      ],
      "metadata": {
        "id": "L0tZhPZO7i8R",
        "colab": {
          "base_uri": "https://localhost:8080/"
        },
        "outputId": "7525370b-90a4-4fea-e1d5-335c9e515228"
      },
      "execution_count": 39,
      "outputs": [
        {
          "output_type": "stream",
          "name": "stdout",
          "text": [
            "0.6666666666666667\n"
          ]
        }
      ]
    }
  ]
}