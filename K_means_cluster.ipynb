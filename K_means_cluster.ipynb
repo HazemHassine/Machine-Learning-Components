{
  "nbformat": 4,
  "nbformat_minor": 0,
  "metadata": {
    "colab": {
      "provenance": [],
      "authorship_tag": "ABX9TyP+r3QWav/w4m7WDcbKcj17",
      "include_colab_link": true
    },
    "kernelspec": {
      "name": "python3",
      "display_name": "Python 3"
    },
    "language_info": {
      "name": "python"
    }
  },
  "cells": [
    {
      "cell_type": "markdown",
      "metadata": {
        "id": "view-in-github",
        "colab_type": "text"
      },
      "source": [
        "<a href=\"https://colab.research.google.com/github/HazemHassine/Machine-Learning-Components/blob/master/K_means_cluster.ipynb\" target=\"_parent\"><img src=\"https://colab.research.google.com/assets/colab-badge.svg\" alt=\"Open In Colab\"/></a>"
      ]
    },
    {
      "cell_type": "code",
      "execution_count": null,
      "metadata": {
        "id": "E1CUwDKixQsB"
      },
      "outputs": [],
      "source": [
        "import numpy as np\n",
        "import pandas as pd\n",
        "import matplotlib.pyplot as plt\n",
        "from sklearn.datasets import make_blobs\n",
        "import warnings\n",
        "# warnings.filterwarnings(\"ignore\")"
      ]
    },
    {
      "cell_type": "code",
      "source": [
        "foo = np.array([[0.0, 10.0], [0.13216, 12.11837], [0.25379, 42.05027], [0.30874, 13.11784]])\n",
        "def minmax_array(arr):\n",
        "  max = np.max(arr)\n",
        "  min = np.min(arr)\n",
        "  return (arr - min) / (max - min)\n",
        "minmax_array(foo)"
      ],
      "metadata": {
        "colab": {
          "base_uri": "https://localhost:8080/"
        },
        "id": "tVe-_EWIeKAU",
        "outputId": "3ea538e5-fdd7-4461-f5ff-b24eae0b66ff"
      },
      "execution_count": null,
      "outputs": [
        {
          "output_type": "execute_result",
          "data": {
            "text/plain": [
              "array([[0.        , 0.2378106 ],\n",
              "       [0.0031429 , 0.28818769],\n",
              "       [0.0060354 , 1.        ],\n",
              "       [0.00734216, 0.31195614]])"
            ]
          },
          "metadata": {},
          "execution_count": 16
        }
      ]
    },
    {
      "cell_type": "code",
      "source": [
        "features, clusters = make_blobs(n_samples = 20,\n",
        "n_features = 2, \n",
        "centers = 2,\n",
        "cluster_std = 0.3,\n",
        "shuffle = True)\n",
        "\n",
        "df = pd.DataFrame(features)\n",
        "df.head()\n",
        "\n",
        "plt.scatter(features[:,0], features[:,1])\n",
        "plt.show()\n",
        "print(clusters)"
      ],
      "metadata": {
        "colab": {
          "base_uri": "https://localhost:8080/",
          "height": 283
        },
        "id": "DgZVwiUvx7Xu",
        "outputId": "68935e61-67a4-4f22-c756-43ce63911595"
      },
      "execution_count": null,
      "outputs": [
        {
          "output_type": "display_data",
          "data": {
            "text/plain": [
              "<Figure size 432x288 with 1 Axes>"
            ],
            "image/png": "[encoded data removed]"
          },
          "metadata": {
            "needs_background": "light"
          }
        },
        {
          "output_type": "stream",
          "name": "stdout",
          "text": [
            "[1 1 0 0 1 0 1 1 1 1 0 1 0 0 0 1 0 1 0 0]\n"
          ]
        }
      ]
    },
    {
      "cell_type": "code",
      "source": [
        "features.shape\n",
        "print(features[:3])"
      ],
      "metadata": {
        "colab": {
          "base_uri": "https://localhost:8080/"
        },
        "id": "qv8FmzOw3tup",
        "outputId": "b2ebcc81-33a3-4fb7-d4d4-914d5a7e5aa6"
      },
      "execution_count": null,
      "outputs": [
        {
          "output_type": "stream",
          "name": "stdout",
          "text": [
            "[[-6.79841097  1.4441944 ]\n",
            " [-7.21453262  0.60489898]\n",
            " [ 7.62181481 -2.95569782]]\n"
          ]
        }
      ]
    },
    {
      "cell_type": "code",
      "source": [
        "class K_Means_Cluster:\n",
        "  def __init__(self,k=3):\n",
        "    self.k = k\n",
        "\n",
        "  def calculate_distance(self,x1,x2):\n",
        "    # euclidean distance\n",
        "    return np.sqrt(np.sum((x1-x2)**2))\n",
        "\n",
        "  def calculate_sum_of_distances(self, X, x1):\n",
        "    sd = 0\n",
        "    return np.sum(np.array([self.calculate_distance(x, x1) for x in X]))\n",
        "\n",
        "  def center(self, x):\n",
        "    return np.sum(x) / len(x)\n",
        "\n",
        "  def SSE(self, points_clustered, C):\n",
        "    temp = np.array(points_clustered)\n",
        "    sse = 0\n",
        "    for i in range(len(C)):\n",
        "      sse += np.sum(np.array(self.calculate_sum_of_distances(points_clustered[i], C[i]))**2) / temp.shape[0]\n",
        "    return sse\n",
        "\n",
        "  def compute_centroids(self, X):\n",
        "    # we'll assume that the data is scaled between 0 and 1\n",
        "    \n",
        "    n_samples, n_features = X.shape\n",
        "    C = np.random.rand(self.k, n_features)\n",
        "    num_iter = 1\n",
        "    hist = []\n",
        "    for t in range(num_iter):\n",
        "      Ck = []\n",
        "      for x in X:\n",
        "        Ck.append(np.argmin([self.calculate_distance(x, c) for c in C]))    \n",
        "      # for j in range(len(C)):\n",
        "      #   C[j] = self.center([Ck[t] if Ck[t] == j)\n",
        "      Ck = np.array(Ck)\n",
        "      points = [[] for _ in range(self.k)]\n",
        "      for i in Ck:\n",
        "        points[i].append(X[i])\n",
        "      for i in range(len(points)):\n",
        "        C[i] = self.center(np.array(points[i]))\n",
        "  \n",
        "      hist.append(self.SSE(points, C))\n",
        "    return hist, C\n",
        "\n",
        "from sklearn.preprocessing import minmax_scale\n",
        "\n",
        "clf = K_Means_Cluster(2)\n",
        "features = minmax_array(features)\n",
        "hist, centers = clf.compute_centroids(features)\n",
        "# x = np.array([1, 2, 3])\n",
        "# y = np.array([4, 5, 6])\n",
        "# clf.calculate_distance(x,y)\n",
        "plt.scatter(centers[:,0], centers[:,-1], color=\"red\")\n",
        "plt.scatter(features[:,0], features[:,1])\n",
        "plt.show()\n",
        "print(clf.calculate_sum_of_distances(np.array([*features[:,0], *features[:,1]]), centers[0]))"
      ],
      "metadata": {
        "colab": {
          "base_uri": "https://localhost:8080/",
          "height": 283
        },
        "id": "-MJ4Qn-cy3qK",
        "outputId": "c56d1bea-1f15-457e-c38e-806839ee200b"
      },
      "execution_count": null,
      "outputs": [
        {
          "output_type": "display_data",
          "data": {
            "text/plain": [
              "<Figure size 432x288 with 1 Axes>"
            ],
            "image/png": "[encoded data removed]"
          },
          "metadata": {
            "needs_background": "light"
          }
        },
        {
          "output_type": "stream",
          "name": "stdout",
          "text": [
            "18.54408470830419\n"
          ]
        }
      ]
    }
  ]
}