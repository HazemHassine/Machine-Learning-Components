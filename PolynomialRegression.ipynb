{
  "nbformat": 4,
  "nbformat_minor": 0,
  "metadata": {
    "colab": {
      "provenance": [],
      "authorship_tag": "ABX9TyPLyL4jRimdSmnVwWe4td9q",
      "include_colab_link": true
    },
    "kernelspec": {
      "name": "python3",
      "display_name": "Python 3"
    },
    "language_info": {
      "name": "python"
    }
  },
  "cells": [
    {
      "cell_type": "markdown",
      "metadata": {
        "id": "view-in-github",
        "colab_type": "text"
      },
      "source": [
        "<a href=\"https://colab.research.google.com/github/HazemHassine/Machine-Learning-Components/blob/master/PolynomialRegression.ipynb\" target=\"_parent\"><img src=\"https://colab.research.google.com/assets/colab-badge.svg\" alt=\"Open In Colab\"/></a>"
      ]
    },
    {
      "cell_type": "markdown",
      "source": [
        "# This doesn't work for now..\n",
        "#### Calculating the gradient descent is confusing"
      ],
      "metadata": {
        "id": "j_Qfe8JXBvN_"
      }
    },
    {
      "cell_type": "code",
      "execution_count": 2,
      "metadata": {
        "id": "YsNjjBBbNAny"
      },
      "outputs": [],
      "source": [
        "import numpy as np\n",
        "import pandas as pd\n",
        "import matplotlib.pyplot as plt"
      ]
    },
    {
      "cell_type": "code",
      "source": [
        "from sklearn.linear_model import LinearRegression"
      ],
      "metadata": {
        "id": "ueynMbH3NzVR"
      },
      "execution_count": 3,
      "outputs": []
    },
    {
      "cell_type": "code",
      "source": [
        "X = 4 * np.random.rand(100,1) - 2\n",
        "\n",
        "Y = 4 + 2* X + X**2 - 3\n",
        "\n",
        "reg = LinearRegression()\n",
        "reg.fit(X,Y)\n",
        "\n",
        "x_vals = np.linspace(-2,2,100).reshape(-1,1)\n",
        "y_vals = reg.predict(x_vals)\n",
        "plt.scatter(X,Y)\n",
        "plt.plot(x_vals, y_vals)\n",
        "plt.show()"
      ],
      "metadata": {
        "colab": {
          "base_uri": "https://localhost:8080/",
          "height": 265
        },
        "id": "AlUUOCp0Nd9e",
        "outputId": "1530e1b2-6f19-46f1-e217-1cdf0baf3a4a"
      },
      "execution_count": 4,
      "outputs": [
        {
          "output_type": "display_data",
          "data": {
            "text/plain": [
              "<Figure size 432x288 with 1 Axes>"
            ],
            "image/png": "[encoded data removed]"
          },
          "metadata": {
            "needs_background": "light"
          }
        }
      ]
    },
    {
      "cell_type": "code",
      "source": [
        "def CalculatePolynomialForX(x, coefs):\n",
        "  y = 0\n",
        "  for power, a in enumerate(coefs):\n",
        "    y += a * (x**power)\n",
        "  return y"
      ],
      "metadata": {
        "id": "W6RF_XV_Q4eO"
      },
      "execution_count": 5,
      "outputs": []
    },
    {
      "cell_type": "code",
      "source": [
        "def plotPolynomial(coefs : list, a :int, b :int, X1=None, actual_data=None) -> None:\n",
        "  x_vals = np.linspace(a,b,100).reshape(-1,1)\n",
        "  y_vals = [CalculatePolynomialForX(x, coefs) for x in x_vals]\n",
        "\n",
        "  try:\n",
        "    plt.scatter(X1, Y1)\n",
        "  except ValueError:\n",
        "    pass\n",
        "  plt.plot(x_vals, y_vals)\n",
        "  plt.show()\n"
      ],
      "metadata": {
        "id": "abV6gKu2N4Ha"
      },
      "execution_count": 77,
      "outputs": []
    },
    {
      "cell_type": "code",
      "source": [
        "class PolynomialRegression:\n",
        "  def __init__(self, degree=3):\n",
        "    self.degree = 0\n",
        "    self.coefs = np.random.randn(degree + 1)\n",
        "  def mse(self,y, yhat):\n",
        "      return (1 / len(y)) * np.sum((y-yhat)**2)\n",
        "  def fit(self, X, Y):\n",
        "    loss_hist = []\n",
        "    num_iter = 100\n",
        "    hist = {}\n",
        "    coefs= self.coefs.copy()\n",
        "    learning_rate = 0.001\n",
        "    y_pred = np.array([CalculatePolynomialForX(x, coefs) for x in X])\n",
        "    loss = self.mse(y_pred,Y)\n",
        "    loss_hist.append(loss)  \n",
        "    for j in range(1,num_iter):\n",
        "      y_pred = np.array([CalculatePolynomialForX(x, coefs) for x in X])\n",
        "      loss = self.mse(y_pred,Y)\n",
        "      loss_hist.append(loss)\n",
        "      for i in range(len(coefs)):\n",
        "        coefs[i] = coefs[i] - learning_rate * (loss_hist[-2] - loss_hist[-1])\n",
        "      # print(f\"at iter n{j} values are {coefs}, loss is {loss}\")\n",
        "    self.coefs = coefs\n",
        "    return self.coefs, loss_hist"
      ],
      "metadata": {
        "id": "Ja63Fx1jTEqx"
      },
      "execution_count": 86,
      "outputs": []
    },
    {
      "cell_type": "code",
      "source": [
        "t = PolynomialRegression(degree=10)\n",
        "X1 = 4 * np.random.rand(100,1) - 2\n",
        "Y1 = 4 + 2* X1 + X1**2\n",
        "(coefs, hist) = t.fit(X1, Y1)"
      ],
      "metadata": {
        "id": "xJNjypOi8FqG"
      },
      "execution_count": 92,
      "outputs": []
    },
    {
      "cell_type": "code",
      "source": [
        "plt.scatter(X1,Y1)"
      ],
      "metadata": {
        "colab": {
          "base_uri": "https://localhost:8080/",
          "height": 283
        },
        "id": "SlF2p_9uADsf",
        "outputId": "7ecdef4d-8d5c-41d9-9785-c27da44c8b4b"
      },
      "execution_count": 70,
      "outputs": [
        {
          "output_type": "execute_result",
          "data": {
            "text/plain": [
              "<matplotlib.collections.PathCollection at 0x7fc1351cbca0>"
            ]
          },
          "metadata": {},
          "execution_count": 70
        },
        {
          "output_type": "display_data",
          "data": {
            "text/plain": [
              "<Figure size 432x288 with 1 Axes>"
            ],
            "image/png": "[encoded data removed]"
          },
          "metadata": {
            "needs_background": "light"
          }
        }
      ]
    },
    {
      "cell_type": "code",
      "source": [
        "hist"
      ],
      "metadata": {
        "id": "bu1yYXX-82f4"
      },
      "execution_count": null,
      "outputs": []
    },
    {
      "cell_type": "code",
      "source": [
        "plt.scatter(X1,Y1)\n",
        "plotPolynomial([1, 1,1], np.min(X1), np.max(X1))"
      ],
      "metadata": {
        "colab": {
          "base_uri": "https://localhost:8080/",
          "height": 265
        },
        "id": "49DCM2HB6fGb",
        "outputId": "55d45a2d-7294-419b-f049-66e2a8c4f853"
      },
      "execution_count": 88,
      "outputs": [
        {
          "output_type": "display_data",
          "data": {
            "text/plain": [
              "<Figure size 432x288 with 1 Axes>"
            ],
            "image/png": "[encoded data removed]"
          },
          "metadata": {
            "needs_background": "light"
          }
        }
      ]
    },
    {
      "cell_type": "code",
      "source": [
        "plotPolynomial(coefs, np.min(X1), np.max(X1), X1, Y1)"
      ],
      "metadata": {
        "colab": {
          "base_uri": "https://localhost:8080/",
          "height": 265
        },
        "id": "n2u0ueUs5ONl",
        "outputId": "5b85f5ae-43e8-4eaf-93ce-71037276c7ad"
      },
      "execution_count": 93,
      "outputs": [
        {
          "output_type": "display_data",
          "data": {
            "text/plain": [
              "<Figure size 432x288 with 1 Axes>"
            ],
            "image/png": "[encoded data removed]"
          },
          "metadata": {
            "needs_background": "light"
          }
        }
      ]
    }
  ]
}