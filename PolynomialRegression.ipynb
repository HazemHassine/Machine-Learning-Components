{
  "nbformat": 4,
  "nbformat_minor": 0,
  "metadata": {
    "colab": {
      "provenance": [],
      "authorship_tag": "ABX9TyPOlI8bRV/1I5AsE6nihaT4",
      "include_colab_link": true
    },
    "kernelspec": {
      "name": "python3",
      "display_name": "Python 3"
    },
    "language_info": {
      "name": "python"
    }
  },
  "cells": [
    {
      "cell_type": "markdown",
      "metadata": {
        "id": "view-in-github",
        "colab_type": "text"
      },
      "source": [
        "<a href=\"https://colab.research.google.com/github/HazemHassine/Machine-Learning-Components/blob/master/PolynomialRegression.ipynb\" target=\"_parent\"><img src=\"https://colab.research.google.com/assets/colab-badge.svg\" alt=\"Open In Colab\"/></a>"
      ]
    },
    {
      "cell_type": "markdown",
      "source": [
        "# This doesn't work for now..\n",
        "#### Calculating the gradient descent is confusing"
      ],
      "metadata": {
        "id": "j_Qfe8JXBvN_"
      }
    },
    {
      "cell_type": "code",
      "execution_count": 2,
      "metadata": {
        "id": "YsNjjBBbNAny"
      },
      "outputs": [],
      "source": [
        "import numpy as np\n",
        "import pandas as pd\n",
        "import matplotlib.pyplot as plt"
      ]
    },
    {
      "cell_type": "code",
      "source": [
        "from sklearn.linear_model import LinearRegression"
      ],
      "metadata": {
        "id": "ueynMbH3NzVR"
      },
      "execution_count": 3,
      "outputs": []
    },
    {
      "cell_type": "code",
      "source": [
        "X = 4 * np.random.rand(100,1) - 2\n",
        "\n",
        "Y = 4 + 2* X + X**2 - 3\n",
        "\n",
        "reg = LinearRegression()\n",
        "reg.fit(X,Y)\n",
        "\n",
        "x_vals = np.linspace(-2,2,100).reshape(-1,1)\n",
        "y_vals = reg.predict(x_vals)\n",
        "plt.scatter(X,Y)\n",
        "plt.plot(x_vals, y_vals)\n",
        "plt.show()"
      ],
      "metadata": {
        "colab": {
          "base_uri": "https://localhost:8080/",
          "height": 265
        },
        "id": "AlUUOCp0Nd9e",
        "outputId": "1530e1b2-6f19-46f1-e217-1cdf0baf3a4a"
      },
      "execution_count": 4,
      "outputs": [
        {
          "output_type": "display_data",
          "data": {
            "text/plain": [
              "<Figure size 432x288 with 1 Axes>"
            ],
            "image/png": "[encoded data removed]"
          },
          "metadata": {
            "needs_background": "light"
          }
        }
      ]
    },
    {
      "cell_type": "code",
      "source": [
        "def CalculatePolynomialForX(x, coefs):\n",
        "  y = 0\n",
        "  for power, a in enumerate(coefs):\n",
        "    y += a * (x**power)\n",
        "  return y"
      ],
      "metadata": {
        "id": "W6RF_XV_Q4eO"
      },
      "execution_count": 5,
      "outputs": []
    },
    {
      "cell_type": "code",
      "source": [
        "def plotPolynomial(coefs : list, a :int, b :int, X1=None, actual_data=None) -> None:\n",
        "  x_vals = np.linspace(a,b,100).reshape(-1,1)\n",
        "  y_vals = [CalculatePolynomialForX(x, coefs) for x in x_vals]\n",
        "\n",
        "  try:\n",
        "    plt.scatter(X1, Y1)\n",
        "  except ValueError:\n",
        "    pass\n",
        "  plt.plot(x_vals, y_vals)\n",
        "  plt.show()\n"
      ],
      "metadata": {
        "id": "abV6gKu2N4Ha"
      },
      "execution_count": 77,
      "outputs": []
    },
    {
      "cell_type": "code",
      "source": [
        "class PolynomialRegression:\n",
        "  def __init__(self, degree=3):\n",
        "    self.degree = 0\n",
        "    self.coefs = np.random.randn(degree + 1)\n",
        "  def mse(self,y, yhat):\n",
        "      return (1 / len(y)) * np.sum((y-yhat)**2)\n",
        "  def fit(self, X, Y):\n",
        "    loss_hist = []\n",
        "    num_iter = 100\n",
        "    hist = {}\n",
        "    coefs= self.coefs.copy()\n",
        "    learning_rate = 0.001\n",
        "    y_pred = np.array([CalculatePolynomialForX(x, coefs) for x in X])\n",
        "    loss = self.mse(y_pred,Y)\n",
        "    loss_hist.append(loss)  \n",
        "    for j in range(1,num_iter):\n",
        "      y_pred = np.array([CalculatePolynomialForX(x, coefs) for x in X])\n",
        "      loss = self.mse(y_pred,Y)\n",
        "      loss_hist.append(loss)\n",
        "      for i in range(len(coefs)):\n",
        "        coefs[i] = coefs[i] - learning_rate * (1 / len(coefs))  * np.dot(y_pred.T , loss)\n",
        "      # print(f\"at iter n{j} values are {coefs}, loss is {loss}\")\n",
        "    self.coefs = coefs\n",
        "    return self.coefs, loss_hist"
      ],
      "metadata": {
        "id": "Ja63Fx1jTEqx"
      },
      "execution_count": 94,
      "outputs": []
    },
    {
      "cell_type": "code",
      "source": [
        "t = PolynomialRegression(degree=10)\n",
        "X1 = 4 * np.random.rand(100,1) - 2\n",
        "Y1 = 4 + 2* X1 + X1**2\n",
        "(coefs, hist) = t.fit(X1, Y1)"
      ],
      "metadata": {
        "colab": {
          "base_uri": "https://localhost:8080/",
          "height": 425
        },
        "id": "xJNjypOi8FqG",
        "outputId": "98a6b8ff-7fef-443d-ce47-8360d522340d"
      },
      "execution_count": 95,
      "outputs": [
        {
          "output_type": "error",
          "ename": "ValueError",
          "evalue": "ignored",
          "traceback": [
            "\u001b[0;31m---------------------------------------------------------------------------\u001b[0m",
            "\u001b[0;31mTypeError\u001b[0m                                 Traceback (most recent call last)",
            "\u001b[0;31mTypeError\u001b[0m: only size-1 arrays can be converted to Python scalars",
            "\nThe above exception was the direct cause of the following exception:\n",
            "\u001b[0;31mValueError\u001b[0m                                Traceback (most recent call last)",
            "\u001b[0;32m<ipython-input-95-eb42ad10202d>\u001b[0m in \u001b[0;36m<module>\u001b[0;34m\u001b[0m\n\u001b[1;32m      2\u001b[0m \u001b[0mX1\u001b[0m \u001b[0;34m=\u001b[0m \u001b[0;36m4\u001b[0m \u001b[0;34m*\u001b[0m \u001b[0mnp\u001b[0m\u001b[0;34m.\u001b[0m\u001b[0mrandom\u001b[0m\u001b[0;34m.\u001b[0m\u001b[0mrand\u001b[0m\u001b[0;34m(\u001b[0m\u001b[0;36m100\u001b[0m\u001b[0;34m,\u001b[0m\u001b[0;36m1\u001b[0m\u001b[0;34m)\u001b[0m \u001b[0;34m-\u001b[0m \u001b[0;36m2\u001b[0m\u001b[0;34m\u001b[0m\u001b[0;34m\u001b[0m\u001b[0m\n\u001b[1;32m      3\u001b[0m \u001b[0mY1\u001b[0m \u001b[0;34m=\u001b[0m \u001b[0;36m4\u001b[0m \u001b[0;34m+\u001b[0m \u001b[0;36m2\u001b[0m\u001b[0;34m*\u001b[0m \u001b[0mX1\u001b[0m \u001b[0;34m+\u001b[0m \u001b[0mX1\u001b[0m\u001b[0;34m**\u001b[0m\u001b[0;36m2\u001b[0m\u001b[0;34m\u001b[0m\u001b[0;34m\u001b[0m\u001b[0m\n\u001b[0;32m----> 4\u001b[0;31m \u001b[0;34m(\u001b[0m\u001b[0mcoefs\u001b[0m\u001b[0;34m,\u001b[0m \u001b[0mhist\u001b[0m\u001b[0;34m)\u001b[0m \u001b[0;34m=\u001b[0m \u001b[0mt\u001b[0m\u001b[0;34m.\u001b[0m\u001b[0mfit\u001b[0m\u001b[0;34m(\u001b[0m\u001b[0mX1\u001b[0m\u001b[0;34m,\u001b[0m \u001b[0mY1\u001b[0m\u001b[0;34m)\u001b[0m\u001b[0;34m\u001b[0m\u001b[0;34m\u001b[0m\u001b[0m\n\u001b[0m",
            "\u001b[0;32m<ipython-input-94-2a2c116a926a>\u001b[0m in \u001b[0;36mfit\u001b[0;34m(self, X, Y)\u001b[0m\n\u001b[1;32m     19\u001b[0m       \u001b[0mloss_hist\u001b[0m\u001b[0;34m.\u001b[0m\u001b[0mappend\u001b[0m\u001b[0;34m(\u001b[0m\u001b[0mloss\u001b[0m\u001b[0;34m)\u001b[0m\u001b[0;34m\u001b[0m\u001b[0;34m\u001b[0m\u001b[0m\n\u001b[1;32m     20\u001b[0m       \u001b[0;32mfor\u001b[0m \u001b[0mi\u001b[0m \u001b[0;32min\u001b[0m \u001b[0mrange\u001b[0m\u001b[0;34m(\u001b[0m\u001b[0mlen\u001b[0m\u001b[0;34m(\u001b[0m\u001b[0mcoefs\u001b[0m\u001b[0;34m)\u001b[0m\u001b[0;34m)\u001b[0m\u001b[0;34m:\u001b[0m\u001b[0;34m\u001b[0m\u001b[0;34m\u001b[0m\u001b[0m\n\u001b[0;32m---> 21\u001b[0;31m         \u001b[0mcoefs\u001b[0m\u001b[0;34m[\u001b[0m\u001b[0mi\u001b[0m\u001b[0;34m]\u001b[0m \u001b[0;34m=\u001b[0m \u001b[0mcoefs\u001b[0m\u001b[0;34m[\u001b[0m\u001b[0mi\u001b[0m\u001b[0;34m]\u001b[0m \u001b[0;34m-\u001b[0m \u001b[0mlearning_rate\u001b[0m \u001b[0;34m*\u001b[0m \u001b[0;34m(\u001b[0m\u001b[0;36m1\u001b[0m \u001b[0;34m/\u001b[0m \u001b[0mlen\u001b[0m\u001b[0;34m(\u001b[0m\u001b[0mcoefs\u001b[0m\u001b[0;34m)\u001b[0m\u001b[0;34m)\u001b[0m  \u001b[0;34m*\u001b[0m \u001b[0mnp\u001b[0m\u001b[0;34m.\u001b[0m\u001b[0mdot\u001b[0m\u001b[0;34m(\u001b[0m\u001b[0my_pred\u001b[0m\u001b[0;34m.\u001b[0m\u001b[0mT\u001b[0m \u001b[0;34m,\u001b[0m \u001b[0mloss\u001b[0m\u001b[0;34m)\u001b[0m\u001b[0;34m\u001b[0m\u001b[0;34m\u001b[0m\u001b[0m\n\u001b[0m\u001b[1;32m     22\u001b[0m       \u001b[0;31m# print(f\"at iter n{j} values are {coefs}, loss is {loss}\")\u001b[0m\u001b[0;34m\u001b[0m\u001b[0;34m\u001b[0m\u001b[0;34m\u001b[0m\u001b[0m\n\u001b[1;32m     23\u001b[0m     \u001b[0mself\u001b[0m\u001b[0;34m.\u001b[0m\u001b[0mcoefs\u001b[0m \u001b[0;34m=\u001b[0m \u001b[0mcoefs\u001b[0m\u001b[0;34m\u001b[0m\u001b[0;34m\u001b[0m\u001b[0m\n",
            "\u001b[0;31mValueError\u001b[0m: setting an array element with a sequence."
          ]
        }
      ]
    },
    {
      "cell_type": "code",
      "source": [
        "plt.scatter(X1,Y1)"
      ],
      "metadata": {
        "colab": {
          "base_uri": "https://localhost:8080/",
          "height": 283
        },
        "id": "SlF2p_9uADsf",
        "outputId": "7ecdef4d-8d5c-41d9-9785-c27da44c8b4b"
      },
      "execution_count": 70,
      "outputs": [
        {
          "output_type": "execute_result",
          "data": {
            "text/plain": [
              "<matplotlib.collections.PathCollection at 0x7fc1351cbca0>"
            ]
          },
          "metadata": {},
          "execution_count": 70
        },
        {
          "output_type": "display_data",
          "data": {
            "text/plain": [
              "<Figure size 432x288 with 1 Axes>"
            ],
            "image/png": "[encoded data removed]"
          },
          "metadata": {
            "needs_background": "light"
          }
        }
      ]
    },
    {
      "cell_type": "code",
      "source": [
        "hist"
      ],
      "metadata": {
        "id": "bu1yYXX-82f4"
      },
      "execution_count": null,
      "outputs": []
    },
    {
      "cell_type": "code",
      "source": [
        "plt.scatter(X1,Y1)\n",
        "plotPolynomial([1, 1,1], np.min(X1), np.max(X1))"
      ],
      "metadata": {
        "colab": {
          "base_uri": "https://localhost:8080/",
          "height": 265
        },
        "id": "49DCM2HB6fGb",
        "outputId": "55d45a2d-7294-419b-f049-66e2a8c4f853"
      },
      "execution_count": 88,
      "outputs": [
        {
          "output_type": "display_data",
          "data": {
            "text/plain": [
              "<Figure size 432x288 with 1 Axes>"
            ],
            "image/png": "[encoded data removed]"
          },
          "metadata": {
            "needs_background": "light"
          }
        }
      ]
    },
    {
      "cell_type": "code",
      "source": [
        "plotPolynomial(coefs, np.min(X1), np.max(X1), X1, Y1)"
      ],
      "metadata": {
        "colab": {
          "base_uri": "https://localhost:8080/",
          "height": 265
        },
        "id": "n2u0ueUs5ONl",
        "outputId": "5b85f5ae-43e8-4eaf-93ce-71037276c7ad"
      },
      "execution_count": 93,
      "outputs": [
        {
          "output_type": "display_data",
          "data": {
            "text/plain": [
              "<Figure size 432x288 with 1 Axes>"
            ],
            "image/png": "[encoded data removed]"
          },
          "metadata": {
            "needs_background": "light"
          }
        }
      ]
    },
    {
      "cell_type": "code",
      "source": [
        "# Importing libraries\n",
        "\n",
        "import numpy as np\n",
        "\n",
        "import math\n",
        "\n",
        "import matplotlib.pyplot as plt\n",
        "\n",
        "# Univariate Polynomial Regression\n",
        "\n",
        "\n",
        "class PolynomailRegression:\n",
        "    def __init__(self, degree, learning_rate, iterations):\n",
        "        self.degree = degree\n",
        "        self.learning_rate = learning_rate\n",
        "        self.iterations = iterations\n",
        "\n",
        "    # function to transform X\n",
        "    def transform(self, X):\n",
        "        # initialize X_transform\n",
        "        X_transform = np.ones((self.m, 1))\n",
        "        j = 0\n",
        "        for j in range(1,self.degree + 1):\n",
        "            x_pow = np.power(X, j)\n",
        "            # append x_pow to X_transform\n",
        "            X_transform = np.append(X_transform, x_pow.reshape(-1, 1), axis=1)\n",
        "        return X_transform\n",
        "\n",
        "    # function to normalize X_transform\n",
        "    def normalize(self, X):\n",
        "        X[:, 1:] = (X[:, 1:] - np.mean(X[:, 1:], axis=0)) / np.std(X[:, 1:], axis=0)\n",
        "        return X\n",
        "\n",
        "    # model training\n",
        "    def fit(self, X, Y):\n",
        "        self.X = X\n",
        "        self.Y = Y\n",
        "        self.m, self.n = self.X.shape\n",
        "        # weight initialization\n",
        "        self.W = np.zeros(self.degree + 1)\n",
        "        # transform X for polynomial h( x ) = w0 * x^0 + w1 * x^1 + w2 * x^2 + ........+ wn * x^n\n",
        "        X_transform = self.transform(self.X)\n",
        "        # normalize X_transform\n",
        "        X_normalize = self.normalize(X_transform)\n",
        "        # gradient descent learning\n",
        "        for i in range(self.iterations):\n",
        "            h = self.predict(self.X)\n",
        "            error = h - self.Y\n",
        "            # update weights\n",
        "            self.W = self.W - self.learning_rate * (1 / self.m) * np.dot(X_normalize.T, error)\n",
        "        return self\n",
        "\n",
        "    # predict\n",
        "    def predict(self, X):\n",
        "        # transform X for polynomial h( x ) = w0 * x^0 + w1 * x^1 + w2 * x^2 + ........+ wn * x^n\n",
        "        X_transform = self.transform(X)\n",
        "        X_normalize = self.normalize(X_transform)\n",
        "        return np.dot(X_transform, self.W)\n",
        "\n",
        "\n",
        "# Driver code\n",
        "def main():\n",
        "    # Create dataset\n",
        "    X = np.array([[1], [2], [3], [4], [5], [6], [7]])\n",
        "    Y = np.array([45000, 50000, 60000, 80000, 110000, 150000, 200000])\n",
        "    # model training\n",
        "    model = PolynomailRegression(degree=4, learning_rate=0.001, iterations=10000)\n",
        "    model.fit(X, Y)\n",
        "    Y_pred = model.predict(X)\n",
        "    plt.scatter(X, Y, color=\"blue\")\n",
        "    plt.plot(X, Y_pred, color=\"orange\")\n",
        "    plt.title(\"X vs Y\")\n",
        "    plt.xlabel(\"X\")\n",
        "    plt.ylabel(\"Y\")\n",
        "    plt.show()\n",
        "\n",
        "\n",
        "if __name__ == \"__main__\":\n",
        "    main()\n"
      ],
      "metadata": {
        "colab": {
          "base_uri": "https://localhost:8080/",
          "height": 295
        },
        "id": "rEh5JFCGE1W3",
        "outputId": "e8b739b8-d670-4503-c018-90fc6a06467e"
      },
      "execution_count": 108,
      "outputs": [
        {
          "output_type": "display_data",
          "data": {
            "text/plain": [
              "<Figure size 432x288 with 1 Axes>"
            ],
            "image/png": "[encoded data removed]"
          },
          "metadata": {
            "needs_background": "light"
          }
        }
      ]
    }
  ]
}