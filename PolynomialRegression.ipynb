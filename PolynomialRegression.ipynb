{
  "nbformat": 4,
  "nbformat_minor": 0,
  "metadata": {
    "colab": {
      "provenance": [],
      "authorship_tag": "ABX9TyOa8J/GulolOvBULKLhbBAl",
      "include_colab_link": true
    },
    "kernelspec": {
      "name": "python3",
      "display_name": "Python 3"
    },
    "language_info": {
      "name": "python"
    }
  },
  "cells": [
    {
      "cell_type": "markdown",
      "metadata": {
        "id": "view-in-github",
        "colab_type": "text"
      },
      "source": [
        "<a href=\"https://colab.research.google.com/github/HazemHassine/Machine-Learning-Components/blob/master/PolynomialRegression.ipynb\" target=\"_parent\"><img src=\"https://colab.research.google.com/assets/colab-badge.svg\" alt=\"Open In Colab\"/></a>"
      ]
    },
    {
      "cell_type": "markdown",
      "source": [
        "# This doesn't work for now..\n",
        "#### Calculating the gradient descent is confusing"
      ],
      "metadata": {
        "id": "j_Qfe8JXBvN_"
      }
    },
    {
      "cell_type": "code",
      "execution_count": 2,
      "metadata": {
        "id": "YsNjjBBbNAny"
      },
      "outputs": [],
      "source": [
        "import numpy as np\n",
        "import pandas as pd\n",
        "import matplotlib.pyplot as plt"
      ]
    },
    {
      "cell_type": "code",
      "source": [
        "from sklearn.linear_model import LinearRegression"
      ],
      "metadata": {
        "id": "ueynMbH3NzVR"
      },
      "execution_count": 3,
      "outputs": []
    },
    {
      "cell_type": "code",
      "source": [
        "X = 4 * np.random.rand(100,1) - 2\n",
        "\n",
        "Y = 4 + 2* X + X**2 - 3\n",
        "\n",
        "reg = LinearRegression()\n",
        "reg.fit(X,Y)\n",
        "\n",
        "x_vals = np.linspace(-2,2,100).reshape(-1,1)\n",
        "y_vals = reg.predict(x_vals)\n",
        "plt.scatter(X,Y)\n",
        "plt.plot(x_vals, y_vals)\n",
        "plt.show()"
      ],
      "metadata": {
        "colab": {
          "base_uri": "https://localhost:8080/",
          "height": 265
        },
        "id": "AlUUOCp0Nd9e",
        "outputId": "2ddd9d7f-6a4c-43e9-b6f5-3de1d6c0a6e9"
      },
      "execution_count": 4,
      "outputs": [
        {
          "output_type": "display_data",
          "data": {
            "text/plain": [
              "<Figure size 432x288 with 1 Axes>"
            ],
            "image/png": "[encoded data removed]"
          },
          "metadata": {
            "needs_background": "light"
          }
        }
      ]
    },
    {
      "cell_type": "code",
      "source": [
        "def CalculatePolynomialForX(x, coefs):\n",
        "  y = 0\n",
        "  for power, a in enumerate(coefs):\n",
        "    y += a * (x**power)\n",
        "  return y"
      ],
      "metadata": {
        "id": "W6RF_XV_Q4eO"
      },
      "execution_count": 5,
      "outputs": []
    },
    {
      "cell_type": "code",
      "source": [
        "def plotPolynomial(coefs : list, a :int, b :int, X1=None, actual_data=None) -> None:\n",
        "  x_vals = np.linspace(a,b,100).reshape(-1,1)\n",
        "  y_vals = [CalculatePolynomialForX(x, coefs) for x in x_vals]\n",
        "  plt.plot(x_vals, y_vals)\n",
        "  plt.show()\n"
      ],
      "metadata": {
        "id": "abV6gKu2N4Ha"
      },
      "execution_count": 6,
      "outputs": []
    },
    {
      "cell_type": "code",
      "source": [
        "import copy\n",
        "\n",
        "\n",
        "class PolynomialRegression:\n",
        "  def __init__(self, degrees):\n",
        "    self.degrees = degrees\n",
        "    self.W = np.zeros((degrees))\n",
        "  \n",
        "  def calculatePolynomial(self,X,W):\n",
        "    res = [0] * len(X)\n",
        "    for i in range(len(res)):\n",
        "      for coef, w in enumerate(W):\n",
        "        res[i] += w * X[i] ** coef    \n",
        "    return res\n",
        "\n",
        "  def compute_gradient(self,X,Y,W):\n",
        "    dj_dw = np.zeros((len(W)))\n",
        "    n = len(X)\n",
        "    y_hat = self.calculatePolynomial(X,W)\n",
        "    X_t = copy.deepcopy(X)\n",
        "    X_t = self.normalize(X_t)\n",
        "    for i in range(len(dj_dw)):\n",
        "      for j in range(len(X)):\n",
        "        dj_dw[i] += (X[j] ** i+1) * (Y[j]-y_hat[j])\n",
        "\n",
        "    return dj_dw * (-2/n)\n",
        "  \n",
        "  def normalize(self, X):\n",
        "    X[:, 1:] = (X[:, 1:] - np.mean(X[:, 1:], axis=0)) / np.std(X[:, 1:], axis=0)\n",
        "    return X\n",
        "\n",
        "  def train(self, X,Y, learning_rate=0.01, iters=100):\n",
        "    hist = []\n",
        "    W = self.W\n",
        "    for i in range(iters):\n",
        "      gradient = self.compute_gradient(X,Y,W)\n",
        "      for j in range(len(gradient)):\n",
        "        W[j] = W[j] - learning_rate * gradient[j]\n",
        "      if (i%10)==0:\n",
        "        y_hat = self.calculatePolynomial(X,W)\n",
        "        loss = (1/len(X)) * np.sum((Y-y_hat)**2)\n",
        "        hist.append(loss)\n",
        "        \n",
        "    self.W = W\n",
        "    return hist"
      ],
      "metadata": {
        "id": "Ja63Fx1jTEqx"
      },
      "execution_count": 38,
      "outputs": []
    },
    {
      "cell_type": "code",
      "source": [
        "import matplotlib.pyplot as plt\n",
        "\n",
        "X = [[x] for x in np.linspace(-3,3,100)]\n",
        "Y = [x[0]**2 + x[0] + 20 + x[0]**3 for x in X]\n",
        "X = np.array(X)\n",
        "Y = np.array(Y)\n",
        "# model training\n",
        "reg = PolynomialRegression(3)\n",
        "hist = reg.train(X,Y,iters=5000,learning_rate=0.0001)\n",
        "plt.plot(X,Y)\n",
        "plt.scatter(X,[CalculatePolynomialForX(x,reg.W) for x in X])"
      ],
      "metadata": {
        "id": "S1EuJYw_tFjF",
        "outputId": "b2447c84-247a-476f-f034-ed711e0358d8",
        "colab": {
          "base_uri": "https://localhost:8080/",
          "height": 283
        }
      },
      "execution_count": 39,
      "outputs": [
        {
          "output_type": "execute_result",
          "data": {
            "text/plain": [
              "<matplotlib.collections.PathCollection at 0x7f357a5ac400>"
            ]
          },
          "metadata": {},
          "execution_count": 39
        },
        {
          "output_type": "display_data",
          "data": {
            "text/plain": [
              "<Figure size 432x288 with 1 Axes>"
            ],
            "image/png": "[encoded data removed]"
          },
          "metadata": {
            "needs_background": "light"
          }
        }
      ]
    },
    {
      "cell_type": "code",
      "source": [
        "reg.W"
      ],
      "metadata": {
        "id": "gaEZGwW9CPXn",
        "outputId": "c0c983f2-5b07-44da-c116-c1a1e86335d0",
        "colab": {
          "base_uri": "https://localhost:8080/"
        }
      },
      "execution_count": 120,
      "outputs": [
        {
          "output_type": "execute_result",
          "data": {
            "text/plain": [
              "array([10.,  3.])"
            ]
          },
          "metadata": {},
          "execution_count": 120
        }
      ]
    },
    {
      "cell_type": "code",
      "source": [
        "plt.plot(range(len(hist)), hist)"
      ],
      "metadata": {
        "id": "AC2TxSWj2fIu",
        "outputId": "5abb360a-e054-4062-c19c-90ef4afa55f4",
        "colab": {
          "base_uri": "https://localhost:8080/",
          "height": 283
        }
      },
      "execution_count": 109,
      "outputs": [
        {
          "output_type": "execute_result",
          "data": {
            "text/plain": [
              "[<matplotlib.lines.Line2D at 0x7fd6fdba0850>]"
            ]
          },
          "metadata": {},
          "execution_count": 109
        },
        {
          "output_type": "display_data",
          "data": {
            "text/plain": [
              "<Figure size 432x288 with 1 Axes>"
            ],
            "image/png": "[encoded data removed]"
          },
          "metadata": {
            "needs_background": "light"
          }
        }
      ]
    },
    {
      "cell_type": "code",
      "source": [
        "# Importing libraries\n",
        "\n",
        "import numpy as np\n",
        "\n",
        "import math\n",
        "\n",
        "import matplotlib.pyplot as plt\n",
        "\n",
        "# Univariate Polynomial Regression\n",
        "\n",
        "\n",
        "class PolynomailRegression:\n",
        "    def __init__(self, degree, learning_rate, iterations):\n",
        "        self.degree = degree\n",
        "        self.learning_rate = learning_rate\n",
        "        self.iterations = iterations\n",
        "\n",
        "    # function to transform X\n",
        "    def transform(self, X):\n",
        "        # initialize X_transform\n",
        "        X_transform = np.ones((self.m, 1))\n",
        "        j = 0\n",
        "        for j in range(1,self.degree + 1):\n",
        "            x_pow = np.power(X, j)\n",
        "            # append x_pow to X_transform\n",
        "            X_transform = np.append(X_transform, x_pow.reshape(-1, 1), axis=1)\n",
        "        return X_transform\n",
        "\n",
        "    # function to normalize X_transform\n",
        "    def normalize(self, X):\n",
        "        X[:, 1:] = (X[:, 1:] - np.mean(X[:, 1:], axis=0)) / np.std(X[:, 1:], axis=0)\n",
        "        return X\n",
        "\n",
        "    # model training\n",
        "    def fit(self, X, Y):\n",
        "        self.X = X\n",
        "        self.Y = Y\n",
        "        self.m, self.n = self.X.shape\n",
        "        # weight initialization\n",
        "        self.W = np.zeros(self.degree + 1)\n",
        "        # transform X for polynomial h( x ) = w0 * x^0 + w1 * x^1 + w2 * x^2 + ........+ wn * x^n\n",
        "        X_transform = self.transform(self.X)\n",
        "        # normalize X_transform\n",
        "        X_normalize = self.normalize(X_transform)\n",
        "        # gradient descent learning\n",
        "        for i in range(self.iterations):\n",
        "            h = self.predict(self.X)\n",
        "            error = h - self.Y\n",
        "            # update weights\n",
        "            self.W = self.W - self.learning_rate * (1 / self.m) * np.dot(X_normalize.T, error)\n",
        "        return self\n",
        "\n",
        "    # predict\n",
        "    def predict(self, X):\n",
        "        # transform X for polynomial h( x ) = w0 * x^0 + w1 * x^1 + w2 * x^2 + ........+ wn * x^n\n",
        "        X_transform = self.transform(X)\n",
        "        X_normalize = self.normalize(X_transform)\n",
        "        return np.dot(X_transform, self.W)\n",
        "\n",
        "\n",
        "# Driver code\n",
        "def main():\n",
        "    # Create dataset\n",
        "    X = [[x] for x in np.linspace(-3,3,100)]\n",
        "    Y = [x[0]**2 + x[0] + 20 + x[0]**3 for x in X]\n",
        "    X = np.array(X)\n",
        "    Y = np.array(Y)\n",
        "    # model training\n",
        "    model = PolynomailRegression(degree=4, learning_rate=0.001, iterations=10000)\n",
        "    model.fit(X, Y)\n",
        "    Y_pred = model.predict(X)\n",
        "    plt.scatter(X, Y, color=\"blue\")\n",
        "    plt.plot(X, Y_pred, color=\"orange\")\n",
        "    plt.title(\"X vs Y\")\n",
        "    plt.xlabel(\"X\")\n",
        "    plt.ylabel(\"Y\")\n",
        "    plt.show()\n",
        "\n",
        "\n",
        "if __name__ == \"__main__\":\n",
        "    main()\n"
      ],
      "metadata": {
        "colab": {
          "base_uri": "https://localhost:8080/",
          "height": 295
        },
        "id": "rEh5JFCGE1W3",
        "outputId": "7ef0d99b-6137-4997-b369-1f5dd01f527e"
      },
      "execution_count": 34,
      "outputs": [
        {
          "output_type": "display_data",
          "data": {
            "text/plain": [
              "<Figure size 432x288 with 1 Axes>"
            ],
            "image/png": "[encoded data removed]"
          },
          "metadata": {
            "needs_background": "light"
          }
        }
      ]
    }
  ]
}